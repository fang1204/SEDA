{
 "cells": [
  {
   "cell_type": "code",
   "execution_count": 31,
   "metadata": {},
   "outputs": [],
   "source": [
    "import json, re, os\n",
    "# data_format = \"test\"        #dev, train/test\n",
    "file_format = \"cadec\"       #share13/share14/cadec\n",
    "# ans_data_path = \"test\"      #dev, train /test\n",
    "pattern = r'[\\w]+|[^\\s\\w]'\n",
    "pattern_s = r'[\\w]+|\\n|[\\s]+|[^\\s\\w]'\n",
    "path = r\"D:\\hw\\W2NER-final\\acl\\cadec\\adr\\text\"\n",
    "doc = \"\"\n",
    "file_list=os.listdir(path)\n",
    "f_dict = {}\n",
    "for file in file_list:\n",
    "    f = open(path+\"\\\\\"+file)\n",
    "    # f = open(r\"D:\\hw\\W2NER-final\\acl\\cadec\\adr\\text\\ARTHROTEC.1.txt\")\n",
    "    word_index_list = []\n",
    "    start = 0\n",
    "    end = 0 \n",
    "    for doc in f:\n",
    "        word_list = re.findall(pattern_s, doc)\n",
    "        for word in word_list:\n",
    "            end = start+len(word)\n",
    "            if word.strip()!=\"\":\n",
    "                \n",
    "                word_index_list.append([start, end])\n",
    "            start=end\n",
    "    if file not in f_dict:\n",
    "        file = file.replace(\".txt\", \"\")\n",
    "        f_dict[file] = word_index_list\n",
    "output_path = r\"D:\\hw\\W2NER-final\\acl\\newcadec\\cadec_word_list.json\"\n",
    "with open(output_path, 'w', encoding='utf-8') as json_file:\n",
    "    json.dump(f_dict, json_file, ensure_ascii=False)\n",
    "\n"
   ]
  },
  {
   "cell_type": "code",
   "execution_count": 58,
   "metadata": {},
   "outputs": [],
   "source": [
    "import json, re, os\n",
    "# data_format = \"test\"        #dev, train/test\n",
    "# ans_data_path = \"test\"      #dev, train /test\n",
    "pattern = r'[\\w]+|[^\\s\\w]'\n",
    "pattern_s = r'[\\w]+|\\n|[\\s]+|[^\\s\\w]'\n",
    "# path_train = \"D:/hw/W2NER-final/acl/share2013/train/text\"\n",
    "# path_test = \"D:/hw/W2NER-final/acl/share2013/test/text\"\n",
    "path_train = \"D:/hw/W2NER-final/acl/share2014/train/text\"\n",
    "path_test = \"D:/hw/W2NER-final/acl/share2014/test/text\"\n",
    "\n",
    "file_list = [path_train+\"/\"+i for i in os.listdir(path_train)]\n",
    "file_list.extend(path_test+\"/\"+i for i in os.listdir(path_test))\n",
    "\n",
    "f_dict = {}\n",
    "for file in file_list:\n",
    "    f = open(file)\n",
    "    word_index_list = []\n",
    "    start = 0\n",
    "    end = 0 \n",
    "    for doc in f:\n",
    "        word_list = re.findall(pattern_s, doc)\n",
    "        for word in word_list:\n",
    "            end = start+len(word)\n",
    "            if word.strip()!=\"\":\n",
    "                \n",
    "                word_index_list.append([start, end])\n",
    "            start=end\n",
    "    \n",
    "    file = file.split(\"/\")[-1]\n",
    "    # print(file)\n",
    "    if file not in f_dict:\n",
    "        f_dict[file] = word_index_list\n",
    "output_path = r\"D:\\hw\\W2NER-final\\acl\\cadec\\new_share14\\share14_word_list.json\"\n",
    "with open(output_path, 'w', encoding='utf-8') as json_file:\n",
    "    json.dump(f_dict, json_file, ensure_ascii=False)"
   ]
  }
 ],
 "metadata": {
  "kernelspec": {
   "display_name": "bi",
   "language": "python",
   "name": "python3"
  },
  "language_info": {
   "codemirror_mode": {
    "name": "ipython",
    "version": 3
   },
   "file_extension": ".py",
   "mimetype": "text/x-python",
   "name": "python",
   "nbconvert_exporter": "python",
   "pygments_lexer": "ipython3",
   "version": "3.9.17"
  }
 },
 "nbformat": 4,
 "nbformat_minor": 2
}
